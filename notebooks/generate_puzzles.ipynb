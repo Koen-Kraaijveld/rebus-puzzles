{
 "cells": [
  {
   "cell_type": "markdown",
   "id": "8ae9ffb6-b50c-4f3a-897a-6fe9c73a61af",
   "metadata": {},
   "source": [
    "# Puzzle Generation in COLUMBUS\n",
    "\n",
    "In this notebook, we will show you how to generate your own puzzles for either **compound words** or **phrases**. "
   ]
  },
  {
   "cell_type": "markdown",
   "id": "2097a552-2878-43a2-b8b8-bff2117c81a8",
   "metadata": {},
   "source": [
    "### Setup\n",
    "To get started, run the setup as shown below."
   ]
  },
  {
   "cell_type": "code",
   "execution_count": null,
   "id": "d25b3c15-350e-48fc-8b17-5110b138d2c7",
   "metadata": {},
   "outputs": [],
   "source": [
    "# Add root folder to allow module imports\n",
    "import sys\n",
    "sys.path.append(\"../\")"
   ]
  },
  {
   "cell_type": "code",
   "execution_count": null,
   "id": "590b5eff-8df8-4782-83bc-0ec0c8a19397",
   "metadata": {},
   "outputs": [],
   "source": [
    "# Import Python modules\n",
    "import json\n",
    "import random\n",
    "\n",
    "# Import necessary code from COLUMBUS\n",
    "from puzzles.parsers.CompoundRebusGraphParser import CompoundRebusGraphParser\n",
    "from puzzles.parsers.PhraseRebusGraphParser import PhraseRebusGraphParser\n",
    "from puzzles.RebusImageConverter import RebusImageConverter\n",
    "\n",
    "# Import utility functions\n",
    "from notebooks.notebook_util import load_inputs_in_columbus"
   ]
  },
  {
   "cell_type": "markdown",
   "id": "623b52c9-2b03-4bb7-809c-581c7cb42b16",
   "metadata": {},
   "source": [
    "## Generating puzzles from COLUMBUS\n",
    "To highlight the overall process in converting compounds/phrases to rebus images, we present a few examples with the inputs that can be found in COLUMBUS. The pipeline is split into two phases: generating a graph from a compound/phrase, and converting this graph into an image of a rebus puzzle.\n",
    "\n",
    "**NOTE**: some of the example rebus puzzles generated below are not present in the final version of COLUMBUS due to manual filtering. This occurs when the only rule used in a puzzle is converting textual elements to an icon.\n",
    "\n",
    "### Components\n",
    "The three most important components in this pipeline are as follows:\n",
    "- Compound graph generator: converts a compound word to a graph\n",
    "- Phrase graph generator: converts a phrase to a graph\n",
    "- Rebus image converter: converts a graph to an image"
   ]
  },
  {
   "cell_type": "code",
   "execution_count": null,
   "id": "984ea360-f3bc-4065-95cc-125acde7aef0",
   "metadata": {},
   "outputs": [],
   "source": [
    "# Instantiate a RebusImageConverter object to convert rebus graphs to images\n",
    "compound_parser = CompoundRebusGraphParser()\n",
    "phrase_parser = PhraseRebusGraphParser() \n",
    "image_generator = RebusImageConverter()   "
   ]
  },
  {
   "cell_type": "markdown",
   "id": "105c262b-5cd3-4450-b3b4-364f7cc891f9",
   "metadata": {},
   "source": [
    "### Loading the data\n",
    "\n",
    "We also shuffle the data using a set seed (feel free to change this seed to generate a different subset of puzzles later)."
   ]
  },
  {
   "cell_type": "code",
   "execution_count": null,
   "id": "be482d3d-dfbe-4845-9295-4d30d2a25a1f",
   "metadata": {},
   "outputs": [],
   "source": [
    "# Load all compounds/phrases in COLUMBUS (see notebook_utils.py)\n",
    "compounds_in_columbus, phrases_in_columbus = load_inputs_in_columbus()\n",
    "\n",
    "# Set seed (change this to generate a different subset of puzzles)\n",
    "seed = 50\n",
    "random.seed(seed)\n",
    "\n",
    "# Shuffle inputs using seed\n",
    "random.shuffle(compounds_in_columbus)\n",
    "random.shuffle(phrases_in_columbus)"
   ]
  },
  {
   "cell_type": "markdown",
   "id": "7b73dd8c-3ba7-4dcb-9e0a-573c184bfce2",
   "metadata": {},
   "source": [
    "### Generating rebus images from compounds\n",
    "\n",
    "To convert a compound word to a rebus image, it must first be converted to a graph. To accomplish this, the compound word must be split into its constituent words (e.g., the compound \"aftereffect\" has constituent words \"after\" and \"effect\"). Additionally, we also need a flag to denote its plurality (this will be used to encode *repetition* rules). The following code will generate all the possible graphs for a given compound and print it. It will then render the corresponding image from that graph."
   ]
  },
  {
   "cell_type": "code",
   "execution_count": null,
   "id": "ea3d2eea-d22e-4927-afff-c59deb926127",
   "metadata": {},
   "outputs": [],
   "source": [
    "# Loop over the first three compounds and convert them to rebus images\n",
    "for compound in compounds_in_columbus[:3]:\n",
    "    # Get constituent words of the compound, its plurality status, and the complete compound word \n",
    "    # (although this last one isn't necessary to generate a graph)\n",
    "    word_1 = compound[\"word_1\"]\n",
    "    word_2 = compound[\"word_2\"]\n",
    "    is_plural = compound[\"is_plural\"]\n",
    "    compound_word = compound[\"compound\"]\n",
    "\n",
    "    # Convert compound to graph by passing in the constituent words and if it is plural or not\n",
    "    graphs = compound_parser.parse(word_1, word_2, is_plural)\n",
    "    for i, graph in enumerate(graphs):\n",
    "        print(f\"=== GRAPH {i+1} FOR COMPOUND: \\\"{compound_word.upper()}\\\" ===\")\n",
    "        print(graph)\n",
    "\n",
    "        # Convert graph to rebus image\n",
    "        image_generator.generate(graph, show=True)\n",
    "    print(\"\")"
   ]
  },
  {
   "cell_type": "markdown",
   "id": "be282c19-bd28-4846-bdfe-c8a29e2a1c08",
   "metadata": {},
   "source": [
    "### Generating rebus images from phrases\n",
    "\n",
    "Alternatively, rebus images can also be generated from phrases. This only requires passing the phrase as input (no splitting or plurality required)."
   ]
  },
  {
   "cell_type": "code",
   "execution_count": null,
   "id": "22ae176f-dc7e-4548-bc89-6ee61ef454a2",
   "metadata": {},
   "outputs": [],
   "source": [
    "# Loop over the first three phrases and convert them to rebus images\n",
    "for phrase in phrases_in_columbus[:3]:\n",
    "    # Convert phrase to graph by just passing the phrase\n",
    "    graphs = phrase_parser.parse(phrase)\n",
    "    for i, graph in enumerate(graphs):\n",
    "        print(f\"=== GRAPH {i+1} FOR PHRASE: \\\"{phrase.upper()}\\\" ===\")\n",
    "        print(graph)\n",
    "\n",
    "        # Convert graph to rebus image\n",
    "        image_generator.generate(graph, show=True)\n",
    "    print(\"\")"
   ]
  },
  {
   "cell_type": "markdown",
   "id": "249e47c6-cebe-4897-bc5c-bb31711b3b99",
   "metadata": {},
   "source": [
    "## Generating your own puzzles\n",
    "\n",
    "We now give you an opportunity to play around with the rebus image generator itself. You can change the inputs for the input compound words (1st code block) and phrases (2nd code block) shown below.\n",
    "\n",
    "**NOTE**: for certain inputs, no image will rendered. This is due to the heuristics used for image generation, which is implemented in an effort to limit complexity and generate as many non-broken rebuses as possible. For these restricted inputs, the graph will be printed, but the image will not be rendered (see the last graph for the phrase \"come down to earth\" shown below)."
   ]
  },
  {
   "cell_type": "code",
   "execution_count": null,
   "id": "4a63e3ca-66d5-41f4-8fca-f86b0ba99991",
   "metadata": {},
   "outputs": [],
   "source": [
    "# Change these inputs to generate a different puzzle of your choice\n",
    "word_1 = \"after\"   # First constituent word\n",
    "word_2 = \"effect\"  # Second constituent word\n",
    "is_plural = True   # Flag to denote plurality\n",
    "\n",
    "# Generate all possible graphs from the above inputs\n",
    "compound_graphs = compound_parser.parse(word_1, word_2, is_plural)\n",
    "\n",
    "# Loop over each generated graph, print it, and convert to an image that will be displayed\n",
    "for i, graph in enumerate(compound_graphs):\n",
    "    print(f\"=== GRAPH {i+1} FOR COMPOUND: \\\"{word_1.upper()}{word_2.upper()}\\\" ===\")\n",
    "    print(graph)\n",
    "    image_generator.generate(graph, show=True)"
   ]
  },
  {
   "cell_type": "code",
   "execution_count": null,
   "id": "2d46bf1a-0e42-42b6-87c9-ef5de9b4c5ce",
   "metadata": {},
   "outputs": [],
   "source": [
    "# Change this phrase to generate a different puzzle of your choice\n",
    "phrase = \"come down to earth\"\n",
    "\n",
    "# Generate all possible graphs from the above phrase\n",
    "phrase_graphs = phrase_parser.parse(phrase)\n",
    "\n",
    "# Loop over each generated graph, print it, and convert to an image that will be displayed\n",
    "for i, graph in enumerate(phrase_graphs):\n",
    "    print(f\"=== GRAPH {i+1} FOR PHRASE: \\\"{phrase.upper()}\\\" ===\")\n",
    "    print(graph)\n",
    "    image_generator.generate(graph, show=True)"
   ]
  }
 ],
 "metadata": {
  "kernelspec": {
   "display_name": "Python 3 (ipykernel)",
   "language": "python",
   "name": "python3"
  },
  "language_info": {
   "codemirror_mode": {
    "name": "ipython",
    "version": 3
   },
   "file_extension": ".py",
   "mimetype": "text/x-python",
   "name": "python",
   "nbconvert_exporter": "python",
   "pygments_lexer": "ipython3",
   "version": "3.12.4"
  }
 },
 "nbformat": 4,
 "nbformat_minor": 5
}
