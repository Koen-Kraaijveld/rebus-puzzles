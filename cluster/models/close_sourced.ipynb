{
 "cells": [
  {
   "cell_type": "code",
   "execution_count": null,
   "metadata": {},
   "outputs": [],
   "source": [
    "import json\n",
    "import os\n",
    "\n",
    "from tqdm import tqdm\n",
    "from PIL import Image\n",
    "import torch\n",
    "import argparse\n",
    "import openai\n",
    "from models.ModelExperiment import ModelExperiment\n",
    "from data.Benchmark import Benchmark\n",
    "import concurrent.futures\n",
    "from util import *\n",
    "import time\n",
    "%load_ext autoreload\n",
    "%autoreload 2\n",
    "\n",
    "import openai\n",
    "import requests\n",
    "from PIL import Image\n",
    "from io import BytesIO\n",
    "import random"
   ]
  },
  {
   "cell_type": "markdown",
   "metadata": {},
   "source": [
    "### prompting"
   ]
  },
  {
   "cell_type": "code",
   "execution_count": null,
   "metadata": {},
   "outputs": [],
   "source": [
    "benchmark = Benchmark(with_metadata=True)\n",
    "puzzles = benchmark.get_puzzles()"
   ]
  },
  {
   "cell_type": "code",
   "execution_count": null,
   "metadata": {},
   "outputs": [],
   "source": [
    "prompt_template = {\n",
    "    \"1\": \"Which word/phrase is conveyed in this image from the following options (either A, B, C, or D)?\\n(A) {} (B) {} (C) {} (D) {}\",\n",
    "    \"2\": \"You are given a rebus puzzle. It consists of text or icons that is used to convey a word or phrase. It needs to be solved through creative thinking. Which word/phrase is conveyed in this image from the following options (either A, B, C, or D)?\\n(A) {} (B) {} (C) {} (D) {}\",\n",
    "    \"3\": \"You are given an image of a rebus puzzle. It consists of text or icons that is used to convey a word or phrase. It needs to be solved through creative thinking. You are also given a description of the graph representation of the puzzle. The nodes are elements that contain text or icons, which are then manipulated through the attributes of their node. The description is as follows:\\n{}\\nWhich word/phrase is conveyed in this image and description from the following options (either A, B, C, or D)?\\n(A) {} (B) {} (C) {} (D) {}\",\n",
    "    \"4\": \"You are given an image of a rebus puzzle. It consists of text or icons that is used to convey a word or phrase. It needs to be solved through creative thinking. You are also given a description of the graph representation of the puzzle. The nodes are elements that contain text or icons, which are then manipulated through the attributes of their node. The edges define spatial relationships between these elements. The description is as follows:\\n{}\\nWhich word/phrase is conveyed in this image and description from the following options (either A, B, C, or D)?\\n(A) {} (B) {} (C) {} (D) {}\"\n",
    "}"
   ]
  },
  {
   "cell_type": "code",
   "execution_count": null,
   "metadata": {},
   "outputs": [],
   "source": [
    "def generation_lopp(args):\n",
    "    for index,puzzle in enumerate(puzzles):\n",
    "        query_model(puzzle, index,args)\n",
    "        if index == args.count:\n",
    "            break\n",
    "\n",
    "def generation(args):\n",
    "    with concurrent.futures.ProcessPoolExecutor(max_workers=20) as executor:\n",
    "        for index,puzzle in enumerate(puzzles):\n",
    "            query_model(puzzle, index,args)\n",
    "            if index == args.count:\n",
    "                break"
   ]
  },
  {
   "cell_type": "code",
   "execution_count": null,
   "metadata": {},
   "outputs": [],
   "source": [
    "parser = argparse.ArgumentParser(description='Process Data.')\n",
    "parser.add_argument('--prompt_type', type=str, default='1', help='dataset name')\n",
    "parser.add_argument('--folder_path',type = str, default = 'result/GPT', help = 'output folder')\n",
    "parser.add_argument('--count', type=int, default=100, help='number of samples')\n",
    "\n",
    "argstring = ['--prompt_type', '3',\n",
    "                '--folder_path', 'results/Gemini_Pro',\n",
    "                '--count', '1008']\n",
    "args = parser.parse_args(argstring)\n",
    "print(\"Starting Generation...\")\n",
    "time1 = time.time()\n",
    "generation(args)\n",
    "time2 = time.time()\n",
    "print(\"Generation Completed\")\n",
    "print(f\"Generation Time: {time2-time1}\")"
   ]
  },
  {
   "cell_type": "markdown",
   "metadata": {},
   "source": [
    "### foward chaining"
   ]
  },
  {
   "cell_type": "code",
   "execution_count": null,
   "metadata": {},
   "outputs": [],
   "source": [
    "system_prompt = \"These image is a rebus puzzle which contain more than one item. An item can be text, icon or shapes. Describe all items in the image in a json file. Each item should have a sepearte json file. The json file should have the following format: {'id': 'temperal_id', 'name' : 'name_of_the_item', 'description': 'description_of_the_item', 'relation': 'location_relation_to_other_items','specialy': 'specialy_of_the_item_if_any'}. For the specialy field should be something you found speical or different from normal items.\""
   ]
  },
  {
   "cell_type": "code",
   "execution_count": null,
   "metadata": {},
   "outputs": [],
   "source": [
    "reason_template = \"\"\"The image is a rebus puzzle which contain a word or phrases. Here is a json file describing the item in the image.\n",
    "{}\n",
    "Which word/phrase is conveyed in this image from the following options (either A, B, C, or D)? \\n(A) {} (B) {} (C) {} (D) {}\n",
    "Start your reasoning by mapping each json file to the word in the answer choices. Only pick the answer choice that is consistent with all the json file.\"\"\""
   ]
  },
  {
   "cell_type": "code",
   "execution_count": null,
   "metadata": {},
   "outputs": [],
   "source": [
    "with concurrent.futures.ProcessPoolExecutor(max_workers=20) as executor:\n",
    "    for i,puzzle in enumerate(puzzles):\n",
    "        try:\n",
    "            JSON_FOLDER = 'results/GPT/json_test/'\n",
    "            json_file_path = os.path.join(JSON_FOLDER, f\"{i}.json\")\n",
    "            image_path = puzzle['image']\n",
    "            ### load json file\n",
    "            with open(json_file_path, 'r') as f:\n",
    "                data = json.load(f)\n",
    "\n",
    "            options = data['options']\n",
    "            assert data['image'] == puzzle['image']\n",
    "            prompt_options = [data['response']]+list(options.values())\n",
    "            system_prompt = reason_template.format(*prompt_options)\n",
    "            executor.submit(query_model_simple_json, puzzle,system_prompt,i)\n",
    "        except Exception as e:\n",
    "            print(e)\n",
    "            print(f\"Error at {i}\")\n"
   ]
  }
 ],
 "metadata": {
  "language_info": {
   "name": "python"
  },
  "orig_nbformat": 4
 },
 "nbformat": 4,
 "nbformat_minor": 2
}
