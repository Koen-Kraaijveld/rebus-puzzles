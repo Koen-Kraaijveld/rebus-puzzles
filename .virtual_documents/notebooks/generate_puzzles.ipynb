





# Add root folder to allow module imports
import sys
sys.path.append("../")


# Import Python modules
import json
import random

# Import necessary code from COLUMBUS
from puzzles.parsers.CompoundRebusGraphParser import CompoundRebusGraphParser
from puzzles.parsers.PhraseRebusGraphParser import PhraseRebusGraphParser
from puzzles.RebusImageConverter import RebusImageConverter

# Import utility functions
from notebooks.notebook_util import load_inputs_in_columbus





# Set seed (change this generate a different subset of puzzles)
seed = 50
random.seed(seed)

# Load all compounds in COLUMBUS (see notebook_utils.py file)
compounds_in_columbus, phrases_in_columbus = load_inputs_in_columbus()

# Shuffle inputs using seed
random.shuffle(compounds_in_columbus)
random.shuffle(phrases_in_columbus)

# Instantiate a RebusImageConverter object to convert rebus graphs to images
image_generator = RebusImageConverter()


compound_parser = CompoundRebusGraphParser()
for compound in compounds_in_columbus[:3]:
    word_1 = compound["word_1"]
    word_2 = compound["word_2"]
    is_plural = compound["is_plural"]
    compound_word = compound["compound"]
    
    graphs = compound_parser.parse(word_1, word_2, is_plural)
    for i, graph in enumerate(graphs):
        print(f"=== GRAPH {i+1} FOR COMPOUND: \"{compound_word.upper()}\" ===")
        print(graph)
        image_generator.generate(graph, show=True)
    print("")


phrase_parser = PhraseRebusGraphParser()
for phrase in phrases_in_columbus[:3]:
    graphs = phrase_parser.parse(phrase)
    for i, graph in enumerate(graphs):
        print(f"=== GRAPH {i+1} FOR PHRASE: \"{phrase.upper()}\" ===")
        print(graph)
        image_generator.generate(graph, show=True)
    print("")





word_1 = "after"
word_2 = "effect"
is_plural = True

compound_graphs = compound_parser.parse(word_1, word_2, is_plural)
for i, graph in enumerate(compound_graphs):
    print(f"=== GRAPH {i+1} FOR COMPOUND: \"{word_1.upper()}{word_2.upper()}\" ===")
    print(graph)
    image_generator.generate(graph, show=True)


phrase = "come down to earth"

phrase_graphs = phrase_parser.parse(phrase)
for i, graph in enumerate(phrase_graphs):
    print(f"=== GRAPH {i+1} FOR PHRASE: \"{phrase.upper()}\" ===")
    print(graph)
    image_generator.generate(graph, show=True)



